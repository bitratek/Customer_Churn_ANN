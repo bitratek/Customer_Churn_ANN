{
  "nbformat": 4,
  "nbformat_minor": 0,
  "metadata": {
    "colab": {
      "provenance": [],
      "mount_file_id": "1IIOm8o9JG92Ejz2qFR_B4z2LAHeK4hQQ",
      "authorship_tag": "ABX9TyPCV8gOhVfnTXhbvOm+8SEE",
      "include_colab_link": true
    },
    "kernelspec": {
      "name": "python3",
      "display_name": "Python 3"
    },
    "language_info": {
      "name": "python"
    },
    "accelerator": "GPU",
    "gpuClass": "standard"
  },
  "cells": [
    {
      "cell_type": "markdown",
      "metadata": {
        "id": "view-in-github",
        "colab_type": "text"
      },
      "source": [
        "<a href=\"https://colab.research.google.com/github/bitratek/Customer_Churn_ANN/blob/main/ANN_GPU.ipynb\" target=\"_parent\"><img src=\"https://colab.research.google.com/assets/colab-badge.svg\" alt=\"Open In Colab\"/></a>"
      ]
    },
    {
      "cell_type": "markdown",
      "source": [
        "# Running ANN from Google Colab\n",
        "\n",
        "\n"
      ],
      "metadata": {
        "id": "-VgMvzCEhOjY"
      }
    },
    {
      "cell_type": "code",
      "source": [
        "from google.colab import drive\n",
        "drive.mount('/content/drive')"
      ],
      "metadata": {
        "id": "FDMFgrhHhlSZ",
        "colab": {
          "base_uri": "https://localhost:8080/"
        },
        "outputId": "9389c0e6-c9a7-40bf-97f2-749a8165ce6a"
      },
      "execution_count": 1,
      "outputs": [
        {
          "output_type": "stream",
          "name": "stdout",
          "text": [
            "Mounted at /content/drive\n"
          ]
        }
      ]
    },
    {
      "cell_type": "code",
      "source": [
        "!pip install -q keras"
      ],
      "metadata": {
        "id": "pXgBUdmVixMl"
      },
      "execution_count": 2,
      "outputs": []
    },
    {
      "cell_type": "code",
      "source": [
        "import pandas as pd"
      ],
      "metadata": {
        "id": "iQZwTM_rkasO"
      },
      "execution_count": 3,
      "outputs": []
    },
    {
      "cell_type": "code",
      "source": [
        "#importing the dataset\n",
        "dataset = pd.read_csv('/content/drive/MyDrive/Colab Notebooks/ANN/Churn_Modelling.csv')\n",
        "X = dataset.iloc[:, 3:13]\n",
        "y = dataset.iloc[:,13]\n",
        "\n",
        "#Create dummy variables\n",
        "geography = pd.get_dummies(X[\"Geography\"],drop_first=True)\n",
        "gender = pd.get_dummies(X[\"Gender\"],drop_first=True)\n",
        "\n",
        "# Concatenate the Data Frames\n",
        "\n",
        "X = pd.concat([X, geography, gender],axis=1)\n",
        "\n",
        "#Drop unnecessary columns\n",
        "X = X.drop(['Geography', 'Gender'], axis=1)\n",
        "\n",
        "# Splitting the dataset into Training set and Test Set\n",
        "\n",
        "from sklearn.model_selection import train_test_split\n",
        "X_train, X_test, y_train, y_test = train_test_split(X, y, test_size=0.2, random_state=0)\n",
        "\n",
        "# Feature Scaling\n",
        "from sklearn.preprocessing import StandardScaler\n",
        "sc = StandardScaler()\n",
        "X_train = sc.fit_transform(X_train)\n",
        "X_test = sc.fit_transform(X_test)\n",
        "\n",
        "# Part 2 - Now let's make the ANN!\n",
        "\n",
        "#importing the Keras libraries and packages\n",
        "import keras\n",
        "from keras.models import Sequential\n",
        "from keras.layers import Dense\n",
        "from keras.layers import Dropout\n",
        "\n",
        "#Initializing the ANN\n",
        "classifier = Sequential()\n",
        "\n",
        "#Adding the input Layer and the first hidden Layer\n",
        "classifier.add(Dense(units=10, kernel_initializer= 'he_normal', activation='relu', input_dim = 11))\n",
        "classifier.add(Dropout(0.3))\n",
        "\n",
        "\n",
        "#Adding the second hidden Layer\n",
        "classifier.add(Dense(units=20, kernel_initializer= 'he_normal', activation='relu'))\n",
        "classifier.add(Dropout(0.4))\n",
        "\n",
        "# #Adding another hidden Layer\n",
        "classifier.add(Dense(units=15, kernel_initializer= 'he_normal', activation='relu'))\n",
        "classifier.add(Dropout(0.2))\n",
        "\n",
        "#Adding the output Layer\n",
        "classifier.add(Dense(units=1, kernel_initializer= 'glorot_uniform', activation='sigmoid'))\n",
        "\n",
        "#compiling the ANN \n",
        "classifier.compile(optimizer='adam',loss='binary_crossentropy',metrics=['accuracy'])\n",
        "\n",
        "#Fitting the ANN model to Training set\n",
        "model_history = classifier.fit(X_train, y_train, batch_size=10, epochs=100)\n",
        "\n",
        "#List all data in history\n",
        "\n",
        "print(model_history.history.keys())\n",
        "\n",
        "\n",
        "#part 3 - Making the predictions and evaluating the model\n",
        "\n",
        "#predicting the Test Set results\n",
        "y_pred = classifier.predict(X_test)\n",
        "y_pred = (y_pred > 0.5)\n",
        "\n",
        "#Making the confusion matrix\n",
        "from sklearn.metrics import confusion_matrix\n",
        "cm = confusion_matrix(y_test, y_pred)\n",
        "\n",
        "# Calculate the Accuracy\n",
        "from sklearn.metrics import accuracy_score\n",
        "score=accuracy_score(y_pred, y_test)"
      ],
      "metadata": {
        "colab": {
          "base_uri": "https://localhost:8080/"
        },
        "id": "IjqSaWeNlQlW",
        "outputId": "273e5a66-1dde-4497-8661-8cc22650732a"
      },
      "execution_count": 4,
      "outputs": [
        {
          "output_type": "stream",
          "name": "stdout",
          "text": [
            "Epoch 1/100\n",
            "800/800 [==============================] - 4s 2ms/step - loss: 0.6249 - accuracy: 0.7352\n",
            "Epoch 2/100\n",
            "800/800 [==============================] - 2s 2ms/step - loss: 0.5069 - accuracy: 0.7909\n",
            "Epoch 3/100\n",
            "800/800 [==============================] - 2s 2ms/step - loss: 0.4783 - accuracy: 0.7960\n",
            "Epoch 4/100\n",
            "800/800 [==============================] - 2s 2ms/step - loss: 0.4583 - accuracy: 0.8027\n",
            "Epoch 5/100\n",
            "800/800 [==============================] - 2s 2ms/step - loss: 0.4469 - accuracy: 0.8076\n",
            "Epoch 6/100\n",
            "800/800 [==============================] - 2s 2ms/step - loss: 0.4393 - accuracy: 0.8080\n",
            "Epoch 7/100\n",
            "800/800 [==============================] - 2s 2ms/step - loss: 0.4307 - accuracy: 0.8149\n",
            "Epoch 8/100\n",
            "800/800 [==============================] - 2s 2ms/step - loss: 0.4234 - accuracy: 0.8213\n",
            "Epoch 9/100\n",
            "800/800 [==============================] - 2s 2ms/step - loss: 0.4132 - accuracy: 0.8253\n",
            "Epoch 10/100\n",
            "800/800 [==============================] - 2s 2ms/step - loss: 0.4084 - accuracy: 0.8248\n",
            "Epoch 11/100\n",
            "800/800 [==============================] - 2s 2ms/step - loss: 0.4049 - accuracy: 0.8304\n",
            "Epoch 12/100\n",
            "800/800 [==============================] - 2s 2ms/step - loss: 0.3998 - accuracy: 0.8306\n",
            "Epoch 13/100\n",
            "800/800 [==============================] - 2s 2ms/step - loss: 0.4010 - accuracy: 0.8311\n",
            "Epoch 14/100\n",
            "800/800 [==============================] - 2s 2ms/step - loss: 0.3963 - accuracy: 0.8304\n",
            "Epoch 15/100\n",
            "800/800 [==============================] - 2s 2ms/step - loss: 0.3967 - accuracy: 0.8291\n",
            "Epoch 16/100\n",
            "800/800 [==============================] - 2s 2ms/step - loss: 0.3969 - accuracy: 0.8324\n",
            "Epoch 17/100\n",
            "800/800 [==============================] - 2s 2ms/step - loss: 0.3942 - accuracy: 0.8319\n",
            "Epoch 18/100\n",
            "800/800 [==============================] - 2s 2ms/step - loss: 0.3929 - accuracy: 0.8329\n",
            "Epoch 19/100\n",
            "800/800 [==============================] - 2s 2ms/step - loss: 0.3884 - accuracy: 0.8334\n",
            "Epoch 20/100\n",
            "800/800 [==============================] - 2s 2ms/step - loss: 0.3907 - accuracy: 0.8339\n",
            "Epoch 21/100\n",
            "800/800 [==============================] - 2s 2ms/step - loss: 0.3896 - accuracy: 0.8347\n",
            "Epoch 22/100\n",
            "800/800 [==============================] - 2s 2ms/step - loss: 0.3825 - accuracy: 0.8359\n",
            "Epoch 23/100\n",
            "800/800 [==============================] - 2s 2ms/step - loss: 0.3845 - accuracy: 0.8375\n",
            "Epoch 24/100\n",
            "800/800 [==============================] - 2s 2ms/step - loss: 0.3857 - accuracy: 0.8396\n",
            "Epoch 25/100\n",
            "800/800 [==============================] - 2s 2ms/step - loss: 0.3880 - accuracy: 0.8334\n",
            "Epoch 26/100\n",
            "800/800 [==============================] - 2s 2ms/step - loss: 0.3857 - accuracy: 0.8364\n",
            "Epoch 27/100\n",
            "800/800 [==============================] - 2s 2ms/step - loss: 0.3880 - accuracy: 0.8361\n",
            "Epoch 28/100\n",
            "800/800 [==============================] - 2s 2ms/step - loss: 0.3825 - accuracy: 0.8404\n",
            "Epoch 29/100\n",
            "800/800 [==============================] - 2s 2ms/step - loss: 0.3799 - accuracy: 0.8399\n",
            "Epoch 30/100\n",
            "800/800 [==============================] - 2s 2ms/step - loss: 0.3832 - accuracy: 0.8381\n",
            "Epoch 31/100\n",
            "800/800 [==============================] - 2s 2ms/step - loss: 0.3840 - accuracy: 0.8354\n",
            "Epoch 32/100\n",
            "800/800 [==============================] - 2s 2ms/step - loss: 0.3782 - accuracy: 0.8403\n",
            "Epoch 33/100\n",
            "800/800 [==============================] - 2s 2ms/step - loss: 0.3789 - accuracy: 0.8414\n",
            "Epoch 34/100\n",
            "800/800 [==============================] - 2s 2ms/step - loss: 0.3774 - accuracy: 0.8438\n",
            "Epoch 35/100\n",
            "800/800 [==============================] - 2s 2ms/step - loss: 0.3758 - accuracy: 0.8424\n",
            "Epoch 36/100\n",
            "800/800 [==============================] - 2s 2ms/step - loss: 0.3730 - accuracy: 0.8420\n",
            "Epoch 37/100\n",
            "800/800 [==============================] - 2s 2ms/step - loss: 0.3770 - accuracy: 0.8443\n",
            "Epoch 38/100\n",
            "800/800 [==============================] - 2s 2ms/step - loss: 0.3726 - accuracy: 0.8449\n",
            "Epoch 39/100\n",
            "800/800 [==============================] - 2s 2ms/step - loss: 0.3786 - accuracy: 0.8451\n",
            "Epoch 40/100\n",
            "800/800 [==============================] - 2s 2ms/step - loss: 0.3745 - accuracy: 0.8451\n",
            "Epoch 41/100\n",
            "800/800 [==============================] - 2s 2ms/step - loss: 0.3758 - accuracy: 0.8443\n",
            "Epoch 42/100\n",
            "800/800 [==============================] - 2s 2ms/step - loss: 0.3759 - accuracy: 0.8454\n",
            "Epoch 43/100\n",
            "800/800 [==============================] - 2s 2ms/step - loss: 0.3766 - accuracy: 0.8450\n",
            "Epoch 44/100\n",
            "800/800 [==============================] - 2s 2ms/step - loss: 0.3762 - accuracy: 0.8430\n",
            "Epoch 45/100\n",
            "800/800 [==============================] - 2s 2ms/step - loss: 0.3732 - accuracy: 0.8445\n",
            "Epoch 46/100\n",
            "800/800 [==============================] - 2s 2ms/step - loss: 0.3753 - accuracy: 0.8435\n",
            "Epoch 47/100\n",
            "800/800 [==============================] - 2s 2ms/step - loss: 0.3779 - accuracy: 0.8438\n",
            "Epoch 48/100\n",
            "800/800 [==============================] - 2s 2ms/step - loss: 0.3686 - accuracy: 0.8454\n",
            "Epoch 49/100\n",
            "800/800 [==============================] - 2s 2ms/step - loss: 0.3673 - accuracy: 0.8455\n",
            "Epoch 50/100\n",
            "800/800 [==============================] - 2s 2ms/step - loss: 0.3716 - accuracy: 0.8457\n",
            "Epoch 51/100\n",
            "800/800 [==============================] - 2s 2ms/step - loss: 0.3744 - accuracy: 0.8429\n",
            "Epoch 52/100\n",
            "800/800 [==============================] - 2s 2ms/step - loss: 0.3714 - accuracy: 0.8444\n",
            "Epoch 53/100\n",
            "800/800 [==============================] - 2s 2ms/step - loss: 0.3733 - accuracy: 0.8431\n",
            "Epoch 54/100\n",
            "800/800 [==============================] - 2s 2ms/step - loss: 0.3726 - accuracy: 0.8450\n",
            "Epoch 55/100\n",
            "800/800 [==============================] - 2s 2ms/step - loss: 0.3712 - accuracy: 0.8444\n",
            "Epoch 56/100\n",
            "800/800 [==============================] - 2s 2ms/step - loss: 0.3694 - accuracy: 0.8462\n",
            "Epoch 57/100\n",
            "800/800 [==============================] - 2s 2ms/step - loss: 0.3712 - accuracy: 0.8461\n",
            "Epoch 58/100\n",
            "800/800 [==============================] - 2s 2ms/step - loss: 0.3692 - accuracy: 0.8489\n",
            "Epoch 59/100\n",
            "800/800 [==============================] - 2s 2ms/step - loss: 0.3717 - accuracy: 0.8445\n",
            "Epoch 60/100\n",
            "800/800 [==============================] - 2s 2ms/step - loss: 0.3693 - accuracy: 0.8485\n",
            "Epoch 61/100\n",
            "800/800 [==============================] - 2s 2ms/step - loss: 0.3717 - accuracy: 0.8430\n",
            "Epoch 62/100\n",
            "800/800 [==============================] - 2s 2ms/step - loss: 0.3758 - accuracy: 0.8409\n",
            "Epoch 63/100\n",
            "800/800 [==============================] - 2s 2ms/step - loss: 0.3731 - accuracy: 0.8474\n",
            "Epoch 64/100\n",
            "800/800 [==============================] - 2s 2ms/step - loss: 0.3721 - accuracy: 0.8457\n",
            "Epoch 65/100\n",
            "800/800 [==============================] - 2s 2ms/step - loss: 0.3718 - accuracy: 0.8480\n",
            "Epoch 66/100\n",
            "800/800 [==============================] - 2s 2ms/step - loss: 0.3688 - accuracy: 0.8466\n",
            "Epoch 67/100\n",
            "800/800 [==============================] - 2s 2ms/step - loss: 0.3760 - accuracy: 0.8425\n",
            "Epoch 68/100\n",
            "800/800 [==============================] - 2s 2ms/step - loss: 0.3690 - accuracy: 0.8443\n",
            "Epoch 69/100\n",
            "800/800 [==============================] - 2s 2ms/step - loss: 0.3684 - accuracy: 0.8469\n",
            "Epoch 70/100\n",
            "800/800 [==============================] - 2s 2ms/step - loss: 0.3708 - accuracy: 0.8457\n",
            "Epoch 71/100\n",
            "800/800 [==============================] - 2s 2ms/step - loss: 0.3684 - accuracy: 0.8475\n",
            "Epoch 72/100\n",
            "800/800 [==============================] - 2s 2ms/step - loss: 0.3685 - accuracy: 0.8509\n",
            "Epoch 73/100\n",
            "800/800 [==============================] - 2s 2ms/step - loss: 0.3698 - accuracy: 0.8464\n",
            "Epoch 74/100\n",
            "800/800 [==============================] - 2s 2ms/step - loss: 0.3714 - accuracy: 0.8455\n",
            "Epoch 75/100\n",
            "800/800 [==============================] - 2s 2ms/step - loss: 0.3712 - accuracy: 0.8490\n",
            "Epoch 76/100\n",
            "800/800 [==============================] - 2s 2ms/step - loss: 0.3648 - accuracy: 0.8431\n",
            "Epoch 77/100\n",
            "800/800 [==============================] - 3s 3ms/step - loss: 0.3720 - accuracy: 0.8456\n",
            "Epoch 78/100\n",
            "800/800 [==============================] - 2s 3ms/step - loss: 0.3692 - accuracy: 0.8484\n",
            "Epoch 79/100\n",
            "800/800 [==============================] - 2s 2ms/step - loss: 0.3679 - accuracy: 0.8462\n",
            "Epoch 80/100\n",
            "800/800 [==============================] - 2s 2ms/step - loss: 0.3703 - accuracy: 0.8465\n",
            "Epoch 81/100\n",
            "800/800 [==============================] - 2s 2ms/step - loss: 0.3705 - accuracy: 0.8461\n",
            "Epoch 82/100\n",
            "800/800 [==============================] - 2s 2ms/step - loss: 0.3670 - accuracy: 0.8446\n",
            "Epoch 83/100\n",
            "800/800 [==============================] - 2s 2ms/step - loss: 0.3636 - accuracy: 0.8479\n",
            "Epoch 84/100\n",
            "800/800 [==============================] - 2s 2ms/step - loss: 0.3681 - accuracy: 0.8456\n",
            "Epoch 85/100\n",
            "800/800 [==============================] - 2s 2ms/step - loss: 0.3655 - accuracy: 0.8464\n",
            "Epoch 86/100\n",
            "800/800 [==============================] - 2s 2ms/step - loss: 0.3650 - accuracy: 0.8465\n",
            "Epoch 87/100\n",
            "800/800 [==============================] - 2s 2ms/step - loss: 0.3705 - accuracy: 0.8450\n",
            "Epoch 88/100\n",
            "800/800 [==============================] - 2s 2ms/step - loss: 0.3673 - accuracy: 0.8472\n",
            "Epoch 89/100\n",
            "800/800 [==============================] - 2s 2ms/step - loss: 0.3715 - accuracy: 0.8431\n",
            "Epoch 90/100\n",
            "800/800 [==============================] - 2s 2ms/step - loss: 0.3706 - accuracy: 0.8443\n",
            "Epoch 91/100\n",
            "800/800 [==============================] - 2s 2ms/step - loss: 0.3660 - accuracy: 0.8499\n",
            "Epoch 92/100\n",
            "800/800 [==============================] - 2s 2ms/step - loss: 0.3679 - accuracy: 0.8466\n",
            "Epoch 93/100\n",
            "800/800 [==============================] - 2s 2ms/step - loss: 0.3672 - accuracy: 0.8503\n",
            "Epoch 94/100\n",
            "800/800 [==============================] - 2s 2ms/step - loss: 0.3660 - accuracy: 0.8468\n",
            "Epoch 95/100\n",
            "800/800 [==============================] - 2s 2ms/step - loss: 0.3660 - accuracy: 0.8451\n",
            "Epoch 96/100\n",
            "800/800 [==============================] - 2s 2ms/step - loss: 0.3660 - accuracy: 0.8455\n",
            "Epoch 97/100\n",
            "800/800 [==============================] - 2s 2ms/step - loss: 0.3658 - accuracy: 0.8478\n",
            "Epoch 98/100\n",
            "800/800 [==============================] - 2s 2ms/step - loss: 0.3658 - accuracy: 0.8474\n",
            "Epoch 99/100\n",
            "800/800 [==============================] - 2s 2ms/step - loss: 0.3656 - accuracy: 0.8478\n",
            "Epoch 100/100\n",
            "800/800 [==============================] - 2s 2ms/step - loss: 0.3686 - accuracy: 0.8438\n",
            "dict_keys(['loss', 'accuracy'])\n",
            "63/63 [==============================] - 0s 1ms/step\n"
          ]
        }
      ]
    },
    {
      "cell_type": "code",
      "source": [
        "#Making the confusion matrix\n",
        "from sklearn.metrics import confusion_matrix\n",
        "cm = confusion_matrix(y_test, y_pred)\n",
        "cm"
      ],
      "metadata": {
        "colab": {
          "base_uri": "https://localhost:8080/"
        },
        "id": "uDKWEw1znc2L",
        "outputId": "6cdc8b53-483f-4c1d-f4e4-74235e50a13c"
      },
      "execution_count": 5,
      "outputs": [
        {
          "output_type": "execute_result",
          "data": {
            "text/plain": [
              "array([[1581,   14],\n",
              "       [ 272,  133]])"
            ]
          },
          "metadata": {},
          "execution_count": 5
        }
      ]
    },
    {
      "cell_type": "code",
      "source": [
        "# Calculate the Accuracy\n",
        "from sklearn.metrics import accuracy_score\n",
        "score=accuracy_score(y_pred, y_test)\n",
        "score"
      ],
      "metadata": {
        "colab": {
          "base_uri": "https://localhost:8080/"
        },
        "id": "hDLMCvetngA7",
        "outputId": "a4cbc18f-9588-4f20-b6ad-0d2ba6f8104b"
      },
      "execution_count": 6,
      "outputs": [
        {
          "output_type": "execute_result",
          "data": {
            "text/plain": [
              "0.857"
            ]
          },
          "metadata": {},
          "execution_count": 6
        }
      ]
    },
    {
      "cell_type": "markdown",
      "source": [
        "## Check if GPU is working"
      ],
      "metadata": {
        "id": "Uavvit6un-NW"
      }
    },
    {
      "cell_type": "code",
      "source": [
        "import tensorflow as tf\n",
        "tf.test.gpu_device_name()"
      ],
      "metadata": {
        "colab": {
          "base_uri": "https://localhost:8080/",
          "height": 35
        },
        "id": "HHidp7XkoBcb",
        "outputId": "5a81b5e9-771f-4bf8-bea2-562b0d1586ea"
      },
      "execution_count": 7,
      "outputs": [
        {
          "output_type": "execute_result",
          "data": {
            "text/plain": [
              "'/device:GPU:0'"
            ],
            "application/vnd.google.colaboratory.intrinsic+json": {
              "type": "string"
            }
          },
          "metadata": {},
          "execution_count": 7
        }
      ]
    },
    {
      "cell_type": "markdown",
      "source": [
        "## Which GPU are you using"
      ],
      "metadata": {
        "id": "qzRkLE7FoXWc"
      }
    },
    {
      "cell_type": "code",
      "source": [
        "from tensorflow.python.client import device_lib\n",
        "device_lib.list_local_devices()"
      ],
      "metadata": {
        "colab": {
          "base_uri": "https://localhost:8080/"
        },
        "id": "H3lfsEbIobwz",
        "outputId": "bbdd4146-ce1c-40bb-9ace-bf4b5f19d478"
      },
      "execution_count": 8,
      "outputs": [
        {
          "output_type": "execute_result",
          "data": {
            "text/plain": [
              "[name: \"/device:CPU:0\"\n",
              " device_type: \"CPU\"\n",
              " memory_limit: 268435456\n",
              " locality {\n",
              " }\n",
              " incarnation: 13945662410118746548\n",
              " xla_global_id: -1, name: \"/device:GPU:0\"\n",
              " device_type: \"GPU\"\n",
              " memory_limit: 14415560704\n",
              " locality {\n",
              "   bus_id: 1\n",
              "   links {\n",
              "   }\n",
              " }\n",
              " incarnation: 15087391797268005968\n",
              " physical_device_desc: \"device: 0, name: Tesla T4, pci bus id: 0000:00:04.0, compute capability: 7.5\"\n",
              " xla_global_id: 416903419]"
            ]
          },
          "metadata": {},
          "execution_count": 8
        }
      ]
    },
    {
      "cell_type": "markdown",
      "source": [
        "## RAM information"
      ],
      "metadata": {
        "id": "weHMNYWypfId"
      }
    },
    {
      "cell_type": "code",
      "source": [
        "!cat /proc/meminfo"
      ],
      "metadata": {
        "colab": {
          "base_uri": "https://localhost:8080/"
        },
        "id": "eCMElRTMpFWV",
        "outputId": "7bc12c7c-c80c-498c-9473-dc5117055a92"
      },
      "execution_count": 9,
      "outputs": [
        {
          "output_type": "stream",
          "name": "stdout",
          "text": [
            "MemTotal:       13297220 kB\n",
            "MemFree:         7503636 kB\n",
            "MemAvailable:   10750452 kB\n",
            "Buffers:           78340 kB\n",
            "Cached:          2842856 kB\n",
            "SwapCached:            0 kB\n",
            "Active:           653300 kB\n",
            "Inactive:        4780800 kB\n",
            "Active(anon):        928 kB\n",
            "Inactive(anon):  1988016 kB\n",
            "Active(file):     652372 kB\n",
            "Inactive(file):  2792784 kB\n",
            "Unevictable:           0 kB\n",
            "Mlocked:               0 kB\n",
            "SwapTotal:             0 kB\n",
            "SwapFree:              0 kB\n",
            "Dirty:               464 kB\n",
            "Writeback:             0 kB\n",
            "AnonPages:       2512960 kB\n",
            "Mapped:           846888 kB\n",
            "Shmem:             13468 kB\n",
            "KReclaimable:      86476 kB\n",
            "Slab:             130272 kB\n",
            "SReclaimable:      86476 kB\n",
            "SUnreclaim:        43796 kB\n",
            "KernelStack:        5680 kB\n",
            "PageTables:        36516 kB\n",
            "NFS_Unstable:          0 kB\n",
            "Bounce:                0 kB\n",
            "WritebackTmp:          0 kB\n",
            "CommitLimit:     6648608 kB\n",
            "Committed_AS:    4692120 kB\n",
            "VmallocTotal:   34359738367 kB\n",
            "VmallocUsed:       54144 kB\n",
            "VmallocChunk:          0 kB\n",
            "Percpu:             1344 kB\n",
            "HardwareCorrupted:     0 kB\n",
            "AnonHugePages:         0 kB\n",
            "ShmemHugePages:        0 kB\n",
            "ShmemPmdMapped:        0 kB\n",
            "FileHugePages:         0 kB\n",
            "FilePmdMapped:         0 kB\n",
            "CmaTotal:              0 kB\n",
            "CmaFree:               0 kB\n",
            "HugePages_Total:       0\n",
            "HugePages_Free:        0\n",
            "HugePages_Rsvd:        0\n",
            "HugePages_Surp:        0\n",
            "Hugepagesize:       2048 kB\n",
            "Hugetlb:               0 kB\n",
            "DirectMap4k:      244544 kB\n",
            "DirectMap2M:     6043648 kB\n",
            "DirectMap1G:     9437184 kB\n"
          ]
        }
      ]
    },
    {
      "cell_type": "code",
      "source": [],
      "metadata": {
        "id": "NhPqeI2-pmus"
      },
      "execution_count": null,
      "outputs": []
    }
  ]
}